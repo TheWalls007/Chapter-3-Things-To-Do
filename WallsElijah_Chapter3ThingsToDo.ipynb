{
 "cells": [
  {
   "cell_type": "code",
   "execution_count": 25,
   "id": "2505cb5c-a702-4d85-a8f5-ccb25f2f63ff",
   "metadata": {},
   "outputs": [],
   "source": [
    "# Elijah Walls\n",
    "# Created 3/23/24\n",
    "# Things to do - Chapter 3\n",
    "# All the steps at the end of the chapter\n",
    "# ver 1.0, 3/23/24"
   ]
  },
  {
   "cell_type": "code",
   "execution_count": 26,
   "id": "844d163f-e269-4e77-8e6e-b7e7c681675f",
   "metadata": {},
   "outputs": [
    {
     "name": "stdout",
     "output_type": "stream",
     "text": [
      "Seconds in an hour: 3600\n"
     ]
    }
   ],
   "source": [
    "# 3.1\n",
    "x = 60*60\n",
    "print(\"Seconds in an hour:\", x)"
   ]
  },
  {
   "cell_type": "code",
   "execution_count": 27,
   "id": "e83ab707-5b22-446d-9443-d7f62bfaa159",
   "metadata": {},
   "outputs": [
    {
     "name": "stdout",
     "output_type": "stream",
     "text": [
      "Seconds in an hour: 3600\n"
     ]
    }
   ],
   "source": [
    "# 3.2\n",
    "seconds_per_hour = x\n",
    "print(\"Seconds in an hour:\", seconds_per_hour)"
   ]
  },
  {
   "cell_type": "code",
   "execution_count": 28,
   "id": "5d2783d9-8527-4115-8500-926f012d34fa",
   "metadata": {},
   "outputs": [
    {
     "name": "stdout",
     "output_type": "stream",
     "text": [
      "Seconds in a day: 86400\n"
     ]
    }
   ],
   "source": [
    "# 3.3\n",
    "SecondsInDay = seconds_per_hour * 24\n",
    "print(\"Seconds in a day:\", SecondsInDay)"
   ]
  },
  {
   "cell_type": "code",
   "execution_count": 29,
   "id": "f6bc182a-73aa-4ba4-b6b6-cd807ca4f0a7",
   "metadata": {},
   "outputs": [
    {
     "name": "stdout",
     "output_type": "stream",
     "text": [
      "Seconds in a day: 86400\n"
     ]
    }
   ],
   "source": [
    "# 3.4\n",
    "seconds_per_day = SecondsInDay \n",
    "print(\"Seconds in a day:\", seconds_per_day)"
   ]
  },
  {
   "cell_type": "code",
   "execution_count": 30,
   "id": "edc566e0-07c6-4180-9806-815bf3e43047",
   "metadata": {},
   "outputs": [
    {
     "name": "stdout",
     "output_type": "stream",
     "text": [
      "Day/hour: 24.0\n"
     ]
    }
   ],
   "source": [
    "# 3.5\n",
    "DayDividedByHourDecimal = seconds_per_day / seconds_per_hour\n",
    "print(\"Day/hour:\", DayDividedByHourDecimal)"
   ]
  },
  {
   "cell_type": "code",
   "execution_count": 32,
   "id": "46b93e9b-ee96-4d58-98a4-e3b30594b697",
   "metadata": {},
   "outputs": [
    {
     "name": "stdout",
     "output_type": "stream",
     "text": [
      "Day/hour: 24\n"
     ]
    }
   ],
   "source": [
    "# 3.6\n",
    "DayDividedByHourWhole = seconds_per_day // seconds_per_hour\n",
    "print(\"Day/hour:\", DayDividedByHourWhole)"
   ]
  },
  {
   "cell_type": "code",
   "execution_count": null,
   "id": "82fb0168-91b8-4b1e-b5d2-96a5446ccb89",
   "metadata": {},
   "outputs": [],
   "source": [
    "# 3.6 - TEXT\n",
    "# The number did agree with the floating point number"
   ]
  }
 ],
 "metadata": {
  "kernelspec": {
   "display_name": "Python 3 (ipykernel)",
   "language": "python",
   "name": "python3"
  },
  "language_info": {
   "codemirror_mode": {
    "name": "ipython",
    "version": 3
   },
   "file_extension": ".py",
   "mimetype": "text/x-python",
   "name": "python",
   "nbconvert_exporter": "python",
   "pygments_lexer": "ipython3",
   "version": "3.11.7"
  }
 },
 "nbformat": 4,
 "nbformat_minor": 5
}
